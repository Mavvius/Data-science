{
 "cells": [
  {
   "cell_type": "code",
   "execution_count": null,
   "id": "c2300b30",
   "metadata": {},
   "outputs": [],
   "source": [
    "import numpy as np\n",
    "import pandas as pd\n",
    "#import matplotlib.pyplot as plt\n",
    "#import seaborn as sns\n",
    "#import warnings   \n",
    "#warnings.simplefilter('ignore')\n",
    "\n",
    "#%matplotlib inline\n",
    "\n",
    "#from matplotlib import rcparams\n",
    "#from matplolib.cm import rainbow"
   ]
  },
  {
   "cell_type": "code",
   "execution_count": null,
   "id": "8041c427",
   "metadata": {},
   "outputs": [],
   "source": [
    "print(\"holo\")"
   ]
  },
  {
   "cell_type": "code",
   "execution_count": null,
   "id": "687f0238",
   "metadata": {},
   "outputs": [],
   "source": []
  },
  {
   "cell_type": "code",
   "execution_count": null,
   "id": "d585d2b3",
   "metadata": {},
   "outputs": [],
   "source": []
  },
  {
   "cell_type": "code",
   "execution_count": null,
   "id": "83f19077",
   "metadata": {},
   "outputs": [],
   "source": []
  }
 ],
 "metadata": {
  "kernelspec": {
   "display_name": "Python 3 (ipykernel)",
   "language": "python",
   "name": "python3"
  },
  "language_info": {
   "codemirror_mode": {
    "name": "ipython",
    "version": 3
   },
   "file_extension": ".py",
   "mimetype": "text/x-python",
   "name": "python",
   "nbconvert_exporter": "python",
   "pygments_lexer": "ipython3",
   "version": "3.9.13"
  }
 },
 "nbformat": 4,
 "nbformat_minor": 5
}
